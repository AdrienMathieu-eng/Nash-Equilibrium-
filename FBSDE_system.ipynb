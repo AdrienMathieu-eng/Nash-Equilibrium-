{
 "cells": [
  {
   "cell_type": "markdown",
   "metadata": {},
   "source": [
    "# Résolution de FBSDE avec l'algorithme 1 (contrôle basé sur X, Y)\n",
    "\n",
    "Ce notebook implémente un algorithme de deep learning pour résoudre une équation différentielle stochastique avant-arrière (FBSDE) pleinement couplée, basé sur l'article de Ji et al. (2020)."
   ]
  },
  {
   "cell_type": "code",
   "execution_count": 2,
   "metadata": {},
   "outputs": [
    {
     "name": "stdout",
     "output_type": "stream",
     "text": [
      "Collecting torch\n",
      "  Downloading torch-1.13.1-cp37-none-macosx_10_9_x86_64.whl.metadata (23 kB)\n",
      "Collecting typing-extensions (from torch)\n",
      "  Downloading typing_extensions-4.7.1-py3-none-any.whl.metadata (3.1 kB)\n",
      "Downloading torch-1.13.1-cp37-none-macosx_10_9_x86_64.whl (135.3 MB)\n",
      "\u001b[2K   \u001b[90m━━━━━━━━━━━━━━━━━━━━━━━━━━━━━━━━━━━━━━━━\u001b[0m \u001b[32m135.3/135.3 MB\u001b[0m \u001b[31m5.9 MB/s\u001b[0m eta \u001b[36m0:00:00\u001b[0m00:01\u001b[0m00:01\u001b[0m\n",
      "\u001b[?25hDownloading typing_extensions-4.7.1-py3-none-any.whl (33 kB)\n",
      "Installing collected packages: typing-extensions, torch\n",
      "Successfully installed torch-1.13.1 typing-extensions-4.7.1\n"
     ]
    }
   ],
   "source": [
    "!pip install torch"
   ]
  },
  {
   "cell_type": "markdown",
   "metadata": {},
   "source": [
    "## Simulation FBSDE system Nash equilibrium, with $Z_t^\\pm = 0$"
   ]
  },
  {
   "cell_type": "markdown",
   "metadata": {},
   "source": [
    "Kappa = 2/3\n",
    "KKappa = 1/3\n",
    "#K = 3/8\n",
    "K = 1\n",
    "B = 1 / (2 * K * (1 - K * KKappa))\n",
    "Beta = (1-2*K*KKappa)*B\n",
    "Zeta = .5\n",
    "Phi_I = Phi_M = 0\n",
    "Alpha_I = Alpha_M = 0\n",
    "Eta  = .5\n",
    "T = 1.0\n",
    "N = 50\n",
    "#not used"
   ]
  },
  {
   "cell_type": "markdown",
   "metadata": {},
   "source": [
    "Kappa = .8\n",
    "KKappa = .1\n",
    "K = 1\n",
    "B = 1 / (2 * K * (1 - K * KKappa))\n",
    "Beta = (1-2*K*KKappa)*B\n",
    "Zeta = .5\n",
    "Phi_I = Phi_M = 0\n",
    "Alpha_I = Alpha_M = 0\n",
    "Eta  = .5\n",
    "T = 0.12\n",
    "N = 20\n",
    "SIG = 20"
   ]
  },
  {
   "cell_type": "markdown",
   "metadata": {},
   "source": [
    "## New coeff"
   ]
  },
  {
   "cell_type": "markdown",
   "metadata": {},
   "source": [
    "Kappa = 1.8\n",
    "KKappa = .1\n",
    "K = 4\n",
    "B = 1 / (2 * K * (1 - K * KKappa))\n",
    "Beta = (1-2*K*KKappa)*B\n",
    "Zeta = .5\n",
    "Phi_I = Phi_M = 0\n",
    "Alpha_I = Alpha_M = 0\n",
    "Eta  = .1\n",
    "T = 0.01\n",
    "N = 20\n",
    "SIG = 50\n",
    "d = (1/(2*Kappa)/(1+B/(2*Kappa)))      "
   ]
  },
  {
   "cell_type": "markdown",
   "metadata": {},
   "source": [
    "def test_params():\n",
    "    a = 6*T**2*+2*Beta**2-1/6\n",
    "    b = 4*K**2*T**2 + 1/(2*Kappa**2)-1/6\n",
    "    c = KKappa*K\n",
    "    return a,b,c\n",
    "print(test_params())"
   ]
  },
  {
   "cell_type": "markdown",
   "metadata": {},
   "source": [
    "# New coeff with new proof (only use those)"
   ]
  },
  {
   "cell_type": "code",
   "execution_count": 201,
   "metadata": {},
   "outputs": [],
   "source": [
    "Kappa = .1\n",
    "KKappa = .1\n",
    "K = 1\n",
    "B = 1 / (2 * K * (1 - K * KKappa))\n",
    "Beta = (1-2*K*KKappa)*B\n",
    "Zeta = 1\n",
    "Phi_I = Phi_M = 0\n",
    "Alpha_I = Alpha_M = 0\n",
    "Eta  = .1\n",
    "T = 0.1\n",
    "N = 20\n",
    "SIG = 5\n",
    "d = (1/(2*Kappa)/(1+B/(2*Kappa)))   "
   ]
  },
  {
   "cell_type": "code",
   "execution_count": 202,
   "metadata": {},
   "outputs": [
    {
     "name": "stdout",
     "output_type": "stream",
     "text": [
      "True\n"
     ]
    }
   ],
   "source": [
    "def condition():\n",
    "    term1 = 8 * T**2 * d**2 + 4 * T**2 * B**2 * K**2 * d**2 + 4 * T**2 * d**2\n",
    "    term2 = 8 * T**2 * d**2 * B**2 * K**2 + 4 * T**2 * B**2 * K**4 + 8 * T**2 * B**4 * K**4 * d**2 + 8 * T**2 * B**2 * K**2\n",
    "    term3 = 16 * (Phi_I)**2 * T**2 + 128 * (T**2 * (Phi_I)**2 + (Alpha_I)**2)\n",
    "    term4 = 16 * (Phi_M)**2 * T**2 + 128 * (T**2 * (Phi_M)**2 + (Alpha_M)**2)\n",
    "\n",
    "    cond = max(term1, term2, term3, term4) < 1/4\n",
    "    return(cond)\n",
    "print(condition())"
   ]
  },
  {
   "cell_type": "code",
   "execution_count": 189,
   "metadata": {},
   "outputs": [],
   "source": [
    "import torch\n",
    "import torch.nn as nn\n",
    "\n",
    "class ZNet(nn.Module):\n",
    "    def __init__(self, input_dim, output_dim=1, hidden_dim=64):\n",
    "        super(ZNet, self).__init__()\n",
    "        self.net = nn.Sequential(\n",
    "            nn.Linear(input_dim, hidden_dim),\n",
    "            nn.ReLU(),\n",
    "            nn.Linear(hidden_dim, hidden_dim),\n",
    "            nn.ReLU(),\n",
    "            nn.Linear(hidden_dim, output_dim)\n",
    "        )\n",
    "\n",
    "    def forward(self, y_I, y_M, q_I, q_M):\n",
    "        xy = torch.cat([y_I, y_M, q_I, q_M], dim=1)\n",
    "        return self.net(xy)\n"
   ]
  },
  {
   "cell_type": "code",
   "execution_count": 190,
   "metadata": {},
   "outputs": [],
   "source": [
    "def simulate_trajectory(Q0_I,Q0_M, Y0_I,Y0_M, Z_nets, \n",
    "                        b_QI,b_QM,b_YI,b_YM, T, N, dW_S,dW_A,eta = Eta,sigma_a = SIG):\n",
    "    dt = T / N\n",
    "    Q_I,Q_M, Y_I,Y_M, Z_vals_IS,Z_vals_IA,Z_vals_MS,Z_vals_MA,alpha= [Q0_I],[Q0_M], [Y0_I],[Y0_M],[],[],[],[], [torch.zeros(1, 1).expand(Q0_I.shape[0], -1)]\n",
    "\n",
    "    for i in range(N):\n",
    "        t = i * dt\n",
    "        q_I,q_M, y_I,y_M,Alpha = Q_I[-1],Q_M[-1], Y_I[-1],Y_M[-1],alpha[-1]\n",
    "        \n",
    "        z_IS = Z_nets[0][i](y_I,y_M,q_I,q_M)\n",
    "        z_IA = Z_nets[1][i](y_I,y_M,q_I,q_M)\n",
    "        z_MS = Z_nets[2][i](y_I,y_M,q_I,q_M)\n",
    "        z_MA = Z_nets[3][i](y_I,y_M,q_I,q_M)\n",
    "        \n",
    "        Z_vals_IS.append(z_IS)\n",
    "        Z_vals_IA.append(z_IA)\n",
    "        Z_vals_MS.append(z_MS)\n",
    "        Z_vals_MA.append(z_MA)\n",
    "        \n",
    "        dWt_S = dW_S[:, i, :]\n",
    "        dWt_A = dW_A[:, i, :]\n",
    "        \n",
    "        q_I_next = q_I + b_QI(y_I,y_M) * dt \n",
    "        q_M_next = q_M + b_QM(y_I,y_M) * dt\n",
    "        \n",
    "        y_I_next = y_I + b_YI(q_I,Alpha) * dt + z_IS * dWt_S + z_IA * dWt_A\n",
    "        y_M_next = y_M + b_YM(q_M,Alpha) * dt + z_MS * dWt_S + z_MA * dWt_A\n",
    "        alpha_next = Alpha - eta * Alpha * dt + dWt_A*sigma_a\n",
    "        \n",
    "        alpha.append(alpha_next)\n",
    "        Q_I.append(q_I_next)\n",
    "        Q_M.append(q_M_next)\n",
    "        Y_I.append(y_I_next)\n",
    "        Y_M.append(y_M_next)\n",
    "    \n",
    "        \n",
    "    return Q_I,Q_M,Y_I,Y_M,Z_vals_IS,Z_vals_IA,Z_vals_MS,Z_vals_MA,alpha\n",
    "\n"
   ]
  },
  {
   "cell_type": "code",
   "execution_count": 191,
   "metadata": {},
   "outputs": [],
   "source": [
    "def compute_loss(Y_I_T,Y_M_T,Q_I_T,Q_M_T,alpha_I=Alpha_I,alpha_M=Alpha_M):\n",
    "    target_I = -2*alpha_I*Q_I_T\n",
    "    target_M = - 2*alpha_M*Q_M_T\n",
    "    return torch.mean((Y_I_T - target_I) ** 2 + (Y_M_T - target_M)**2)\n"
   ]
  },
  {
   "cell_type": "code",
   "execution_count": 192,
   "metadata": {},
   "outputs": [],
   "source": [
    "def train(Z_nets, Y0_I,Y0_M, Q0_I, Q0_M, b_QI, b_QM, b_YI, b_YM,T, N, num_steps=1000, batch_size=100):\n",
    "    optimizer = torch.optim.Adam(\n",
    "        [{'params': net.parameters()} for net_list in Z_nets for net in net_list] + [{'params': [Y0_I,Y0_M]}], \n",
    "        lr=1e-3\n",
    "    )\n",
    "    #dW_S_all = []\n",
    "    #dW_A_all = []\n",
    "    for step in range(num_steps):\n",
    "        dW_S = torch.randn(batch_size, N, Y0_I.shape[1]) * (T / N) ** 0.5\n",
    "        dW_A = torch.randn(batch_size, N, Y0_I.shape[1]) * (T / N) ** 0.5\n",
    "        \n",
    "        #dW_S_all.append(dW_S)\n",
    "        #dW_A_all.append(dW_A)\n",
    "\n",
    "\n",
    "        Q_I_list,Q_M_list, Y_I_list,Y_M_list,_,_,_,_,_ = simulate_trajectory(\n",
    "            Q0_I.expand(batch_size, -1), Q0_M.expand(batch_size,-1), Y0_I.expand(batch_size, -1), Y0_M.expand(batch_size, -1),\n",
    "            Z_nets, b_QI,b_QM,b_YI,b_YM, T, N, dW_S,dW_A\n",
    "        )\n",
    "        loss = compute_loss(Y_I_list[-1],Y_M_list[-1], Q_I_list[-1],Q_M_list[-1])\n",
    "        optimizer.zero_grad()\n",
    "        loss.backward()\n",
    "        optimizer.step()\n",
    "        if step % 100 == 0:\n",
    "            print(f\"Step {step}, Loss: {loss.item():.5f}\")\n",
    "\n",
    "    return dW_S,dW_A #dW_S[0:1,:,:],dW_A[0:1,:,:]\n",
    "            \n",
    "        "
   ]
  },
  {
   "cell_type": "code",
   "execution_count": 193,
   "metadata": {},
   "outputs": [],
   "source": [
    "# Fonctions dynamiques\n",
    "def b_QI(y_I, y_M, beta=Beta, k=K, kappa=Kappa, zeta=Zeta,b=B,kappa_U=KKappa):\n",
    "    c = -beta* zeta + y_I - b * k * y_M\n",
    "    tilde_c = -beta * zeta - y_I + b * k * y_M\n",
    "\n",
    "    left = torch.where(\n",
    "        c > 0,\n",
    "        (c / (2 * kappa)) / (b / (2 * kappa) + 1),\n",
    "        torch.zeros_like(c)\n",
    "    )\n",
    "    right = torch.where(\n",
    "        tilde_c > 0,\n",
    "        (tilde_c / (2 * kappa) ) / (b / (2 * kappa) + 1),\n",
    "        torch.zeros_like(tilde_c)\n",
    "    )\n",
    "    return left - right\n",
    "\n",
    "def b_QM(y_I, y_M, beta=Beta, k=K, kappa=Kappa, zeta=Zeta,b=B,kappa_u = KKappa):\n",
    "    c = -beta* zeta + y_I - b * k * y_M\n",
    "    tilde_c = -beta  * zeta - y_I + b * k * y_M\n",
    "\n",
    "    left = torch.where(\n",
    "        c > 0,\n",
    "        (c / (2 * kappa)) / (b / (2 * kappa) + 1),\n",
    "        torch.zeros_like(c)\n",
    "    )\n",
    "    right = torch.where(\n",
    "        tilde_c > 0,\n",
    "        (tilde_c / (2 * kappa)) / (b / (2 * kappa) + 1),\n",
    "        torch.zeros_like(tilde_c)\n",
    "    )\n",
    "    return k*b*(left-right) + 2*k**2*b*y_M  - (left - right)\n",
    "\n",
    "def b_YI(q_I, alpha, phi_I=Phi_I):\n",
    "    return 2 * phi_I * q_I - alpha\n",
    "\n",
    "def b_YM(q_M, alpha, phi_M=Phi_M):\n",
    "    return 2 * phi_M * q_M - alpha\n"
   ]
  },
  {
   "cell_type": "code",
   "execution_count": 194,
   "metadata": {},
   "outputs": [
    {
     "name": "stdout",
     "output_type": "stream",
     "text": [
      "Step 0, Loss: 2.10850\n",
      "Step 100, Loss: 1.64134\n",
      "Step 200, Loss: 1.29088\n",
      "Step 300, Loss: 1.04003\n",
      "Step 400, Loss: 0.81192\n",
      "Step 500, Loss: 0.62994\n",
      "Step 600, Loss: 0.47578\n",
      "Step 700, Loss: 0.36484\n",
      "Step 800, Loss: 0.26558\n",
      "Step 900, Loss: 0.18606\n"
     ]
    }
   ],
   "source": [
    "# Initialisation\n",
    "dim_q_I = 1\n",
    "dim_q_M = 1\n",
    "dim_y_I = 1\n",
    "dim_y_M = 1\n",
    "input_dim = dim_q_I + dim_q_M + dim_y_I + dim_y_M\n",
    "\n",
    "\n",
    "# Z_nets: 4 groupes de N réseaux chacun\n",
    "Z_nets = [\n",
    "    [ZNet(input_dim=input_dim) for _ in range(N)]  # Z_IS\n",
    "    for _ in range(4)  # Z_IS, Z_IA, Z_MS, Z_MA\n",
    "]\n",
    "\n",
    "Q0_I = torch.zeros(1, dim_q_I)\n",
    "Q0_M = torch.zeros(1, dim_q_M)\n",
    "Y0_I = nn.Parameter(torch.ones(1, dim_y_I))\n",
    "Y0_M = nn.Parameter(torch.ones(1, dim_y_M))\n",
    "\n",
    "dW_S, dW_A = train(Z_nets, Y0_I,Y0_M, Q0_I, Q0_M, b_QI, b_QM, b_YI, b_YM, T, N)\n"
   ]
  },
  {
   "cell_type": "code",
   "execution_count": 244,
   "metadata": {},
   "outputs": [
    {
     "ename": "TypeError",
     "evalue": "simulate_trajectory() missing 2 required positional arguments: 'dW_ZP' and 'dW_ZM'",
     "output_type": "error",
     "traceback": [
      "\u001b[0;31m---------------------------------------------------------------------------\u001b[0m",
      "\u001b[0;31mTypeError\u001b[0m                                 Traceback (most recent call last)",
      "\u001b[0;32m<ipython-input-244-bcf5b644e815>\u001b[0m in \u001b[0;36m<module>\u001b[0;34m\u001b[0m\n\u001b[1;32m     97\u001b[0m \u001b[0;34m\u001b[0m\u001b[0m\n\u001b[1;32m     98\u001b[0m \u001b[0;31m# Appeler la fonction pour afficher les courbes après l'entraînement\u001b[0m\u001b[0;34m\u001b[0m\u001b[0;34m\u001b[0m\u001b[0;34m\u001b[0m\u001b[0m\n\u001b[0;32m---> 99\u001b[0;31m \u001b[0mplot_after_training\u001b[0m\u001b[0;34m(\u001b[0m\u001b[0;34m)\u001b[0m\u001b[0;34m\u001b[0m\u001b[0;34m\u001b[0m\u001b[0m\n\u001b[0m",
      "\u001b[0;32m<ipython-input-244-bcf5b644e815>\u001b[0m in \u001b[0;36mplot_after_training\u001b[0;34m(batch_size)\u001b[0m\n\u001b[1;32m     91\u001b[0m     \u001b[0;31m# Récupérer la trajectoire simulée après l'entraînement\u001b[0m\u001b[0;34m\u001b[0m\u001b[0;34m\u001b[0m\u001b[0;34m\u001b[0m\u001b[0m\n\u001b[1;32m     92\u001b[0m     Q_I, Q_M, Y_I, Y_M, _, _, _, _,alpha = simulate_trajectory(\n\u001b[0;32m---> 93\u001b[0;31m         Q0_I.expand(batch_size, -1), Q0_M.expand(batch_size, -1), Y0_I.expand(batch_size, -1), Y0_M.expand(batch_size, -1), Z_nets, b_QI, b_QM, b_YI, b_YM, T, N,dW_S,dW_A)\n\u001b[0m\u001b[1;32m     94\u001b[0m \u001b[0;34m\u001b[0m\u001b[0m\n\u001b[1;32m     95\u001b[0m     \u001b[0;31m# Affichage des courbes pour le premier élément du batch\u001b[0m\u001b[0;34m\u001b[0m\u001b[0;34m\u001b[0m\u001b[0;34m\u001b[0m\u001b[0m\n",
      "\u001b[0;31mTypeError\u001b[0m: simulate_trajectory() missing 2 required positional arguments: 'dW_ZP' and 'dW_ZM'"
     ]
    }
   ],
   "source": [
    "import matplotlib.pyplot as plt\n",
    "import numpy as np\n",
    "\n",
    "# Fonction pour afficher les courbes après l'entraînement\n",
    "def plot_trajectory(Q_I, Q_M, Y_I, Y_M, alpha, T, N, batch_idx=0,batch_size=100):\n",
    "    # Création d'un vecteur de temps\n",
    "    time_grid = [i * T / N for i in range(N+1)]\n",
    "\n",
    "    # Récupération des valeurs pour un élément spécifique du batch\n",
    "    Q_I_vals = [Q_I[t][batch_idx].item() for t in range(N+1)]\n",
    "    Q_M_vals = [Q_M[t][batch_idx].item() for t in range(N+1)]\n",
    "    Y_I_vals = [Y_I[t][batch_idx].item() for t in range(N+1)]\n",
    "    Y_M_vals = [Y_M[t][batch_idx].item() for t in range(N+1)]\n",
    "    alpha_vals = [alpha[t][batch_idx].item() for t in range(N+1)]\n",
    "    \n",
    "    \n",
    "    delta_plus = []\n",
    "    delta_minus = []\n",
    "    c=[]\n",
    "    tilde_c =[]\n",
    "    proj_alpha_compt = [alpha_vals[t]*(1-np.exp(-(T-time_grid[t])))/Eta for t in range(N+1)]\n",
    "    for t in range(N+1):\n",
    "        #c.append(-B*(1-2*K*KKappa)*Zeta + Y_I_vals[t] - B*K*Y_M_vals[t])\n",
    "        #tilde_c.append(-B*(1-2*K*KKappa)*Zeta- Y_I_vals[t] + B*K*Y_M_vals[t])\n",
    "        \n",
    "        #True params :\n",
    "        c.append(-B*(1-2*K*KKappa)*Zeta + (1-B*K)*proj_alpha_compt[t])\n",
    "        tilde_c.append(-B*(1-2*K*KKappa)*Zeta- (1-B*K)*proj_alpha_compt[t])\n",
    "\n",
    "    \n",
    "    nu_plus = []\n",
    "    nu_minus = []\n",
    "    for t in range(N+1):\n",
    "        if c[t] <= 0:\n",
    "            nu_plus.append(0)\n",
    "        else:\n",
    "            nu_plus.append((c[t]/(2*Kappa))/((B/(2*Kappa)+1)))\n",
    "    \n",
    "    for t in range(N+1):\n",
    "        if tilde_c[t] <= 0:\n",
    "            nu_minus.append(0)\n",
    "        else:\n",
    "            nu_minus.append((tilde_c[t]/(2*Kappa))/((B/(2*Kappa)+1)) )  \n",
    "            \n",
    "    for t in range(N+1):\n",
    "        delta_plus.append(B*nu_plus[t] + Beta*Zeta + B*K*Y_M_vals[t])\n",
    "        delta_minus.append(B*nu_minus[t] + Beta*Zeta - B*K*Y_M_vals[t])\n",
    "\n",
    "    proj_alpha = [ Y_I_vals[t] - B*K*Y_M_vals[t] for t in range(N+1)]\n",
    "    proj_alpha_compt = [(1-K*B)*alpha_vals[t]*(1-np.exp(-(T-time_grid[t])))/Eta for t in range(N+1)]\n",
    "    \n",
    "    # Tracer les courbes pour Q_I, Q_M, Y_I, Y_M\n",
    "    plt.figure(figsize=(12, 6))\n",
    "\n",
    "    # Trajectoire pour Q_I et Q_M\n",
    "    plt.plot(time_grid, nu_plus, label=\"\\nu_t^+\", color='blue')\n",
    "    plt.plot(time_grid, nu_minus, label=\"\\nu_t^-\", color='orange')\n",
    "    plt.title(\"Trajectoire de trading speed\")\n",
    "    plt.xlabel(\"Temps\")\n",
    "    plt.ylabel(\"Valeur\")\n",
    "    plt.legend()\n",
    "    plt.tight_layout()\n",
    "    plt.show()\n",
    "    \n",
    "    \n",
    "    plt.plot(time_grid, delta_plus, label=\"\\delta_t^+\", color='blue')\n",
    "    plt.plot(time_grid, delta_minus, label=\"delta_t^-\", color='orange')\n",
    "    plt.title(\"Trajectoire des bid and ask\")\n",
    "    plt.xlabel(\"Temps\")\n",
    "    plt.ylabel(\"Valeur\")\n",
    "    plt.legend()\n",
    "    plt.tight_layout()\n",
    "    plt.show()\n",
    "    \n",
    "    \n",
    "    plt.plot(time_grid,alpha_vals,label='\\alpha_t')\n",
    "    plt.title(\"Trajectoire du signal\")\n",
    "    plt.legend()\n",
    "    plt.tight_layout()\n",
    "    plt.show()\n",
    "    \n",
    "    plt.plot(time_grid,proj_alpha,label='NN_{alpha}_t')\n",
    "    plt.plot(time_grid,proj_alpha_compt,label='true_alpha_t')\n",
    "    plt.title(\"Trajectoire de la projection du signal\")\n",
    "    plt.legend()\n",
    "    plt.tight_layout()\n",
    "    plt.show()\n",
    "        \n",
    "# Fonction principale pour récupérer les valeurs et afficher les courbes\n",
    "def plot_after_training(batch_size=100):\n",
    "    # Récupérer la trajectoire simulée après l'entraînement\n",
    "    Q_I, Q_M, Y_I, Y_M, _, _, _, _,alpha = simulate_trajectory(\n",
    "        Q0_I.expand(batch_size, -1), Q0_M.expand(batch_size, -1), Y0_I.expand(batch_size, -1), Y0_M.expand(batch_size, -1), Z_nets, b_QI, b_QM, b_YI, b_YM, T, N,dW_S,dW_A)\n",
    "    \n",
    "    # Affichage des courbes pour le premier élément du batch\n",
    "    plot_trajectory(Q_I, Q_M, Y_I, Y_M,alpha, T, N, batch_idx=1,batch_size=100)\n",
    "\n",
    "# Appeler la fonction pour afficher les courbes après l'entraînement\n",
    "plot_after_training()\n"
   ]
  },
  {
   "cell_type": "code",
   "execution_count": 196,
   "metadata": {},
   "outputs": [
    {
     "name": "stderr",
     "output_type": "stream",
     "text": [
      "No handles with labels found to put in legend.\n",
      "No handles with labels found to put in legend.\n"
     ]
    },
    {
     "data": {
      "image/png": "[encoded data removed]",
      "text/plain": [
       "<Figure size 1008x360 with 2 Axes>"
      ]
     },
     "metadata": {
      "needs_background": "light"
     },
     "output_type": "display_data"
    }
   ],
   "source": [
    "import matplotlib.pyplot as plt\n",
    "\n",
    "# Fonction pour tracer nu⁺ et nu⁻ dans deux sous-graphes côte à côte\n",
    "def plot_nu_trajectories(Q_I, Q_M, Y_I, Y_M, alpha, T, N, batch_indices):\n",
    "    time_grid = [i * T / N for i in range(N+1)]\n",
    "    nu_plus = []\n",
    "    nu_minus = []\n",
    "\n",
    "    fig, axes = plt.subplots(1, 2, figsize=(14, 5), sharex=True, sharey=True)\n",
    "\n",
    "    for batch_idx in batch_indices:\n",
    "        Q_I_vals = [Q_I[t][batch_idx].item() for t in range(N+1)]\n",
    "        Q_M_vals = [Q_M[t][batch_idx].item() for t in range(N+1)]\n",
    "        Y_I_vals = [Y_I[t][batch_idx].item() for t in range(N+1)]\n",
    "        Y_M_vals = [Y_M[t][batch_idx].item() for t in range(N+1)]\n",
    "        alpha_vals = [alpha[t][batch_idx].item() for t in range(N+1)]\n",
    "\n",
    "\n",
    "\n",
    "        \n",
    "        for t in range(N+1):\n",
    "            #Estim params\n",
    "            #c = -B*(1 - 2*K*KKappa)*Zeta + Y_I_vals[t] - B*K*Y_M_vals[t] \n",
    "            #tilde_c = -B*(1 - 2*K*KKappa)*Zeta - Y_I_vals[t] + B*K*Y_M_vals[t]\n",
    "            \n",
    "            #True parms:\n",
    "            c = -B*(1-2*K*KKappa)*Zeta + (1-B*K)*alpha_vals[t]*(1-np.exp(-(T-time_grid[t])))/Eta\n",
    "            tilde_c = -B*(1-2*K*KKappa)*Zeta- (1-B*K)*alpha_vals[t]*(1-np.exp(-(T-time_grid[t])))/Eta\n",
    "            nu_plus.append((c/(2*Kappa))/(B/(2*Kappa)+1) if c > 0 else 0)\n",
    "            nu_minus.append((tilde_c/(2*Kappa))/(B/(2*Kappa)+1) if tilde_c > 0 else 0)\n",
    "\n",
    "        #nu_plus = [(ct/(2*Kappa))/(Beta/(2*Kappa)+1) if ct > 0 else 0 for ct in c]\n",
    "        #nu_minus = [(tc/(2*Kappa))/(Beta/(2*Kappa)+1) if tc > 0 else 0 for tc in tilde_c]\n",
    "\n",
    "        axes[0].plot(time_grid, nu_plus,'--')\n",
    "        axes[1].plot(time_grid, nu_minus,'')\n",
    "        nu_plus = []\n",
    "        nu_minus = []\n",
    "\n",
    "    axes[0].set_title(\"Trajectoire de ν+\")\n",
    "    axes[1].set_title(\"Trajectoire de ν⁻\")\n",
    "\n",
    "    for ax in axes:\n",
    "        ax.set_xlabel(\"Temps\")\n",
    "        ax.set_ylabel(\"Valeur\")\n",
    "        ax.grid(True)\n",
    "        ax.legend()\n",
    "\n",
    "    plt.tight_layout()\n",
    "    plt.show()\n",
    "    \n",
    "    \n",
    "    for batch_idx in batch_indices:\n",
    "        Q_I_vals = [Q_I[t][batch_idx].item() for t in range(N+1)]\n",
    "        Q_M_vals = [Q_M[t][batch_idx].item() for t in range(N+1)]\n",
    "        Y_I_vals = [Y_I[t][batch_idx].item() for t in range(N+1)]\n",
    "        Y_M_vals = [Y_M[t][batch_idx].item() for t in range(N+1)]\n",
    "        alpha_vals = [alpha[t][batch_idx].item() for t in range(N+1)]\n",
    "\n",
    "# Fonction principale\n",
    "def plot_after_training(batch_size=100, batch_indices=[0, 1, 2, 3, 4]):\n",
    "    Q_I, Q_M, Y_I, Y_M, _, _, _, _, alpha = simulate_trajectory(\n",
    "        Q0_I.expand(batch_size, -1),\n",
    "        Q0_M.expand(batch_size, -1),\n",
    "        Y0_I.expand(batch_size, -1),\n",
    "        Y0_M.expand(batch_size, -1),\n",
    "        Z_nets, b_QI, b_QM, b_YI, b_YM,\n",
    "        T, N, dW_S, dW_A\n",
    "    )\n",
    "\n",
    "    plot_nu_trajectories(Q_I, Q_M, Y_I, Y_M, alpha, T, N, batch_indices)\n",
    "\n",
    "# Appel de la fonction\n",
    "plot_after_training(batch_size=100, batch_indices=[k for k in range(100)])\n"
   ]
  },
  {
   "cell_type": "markdown",
   "metadata": {},
   "source": [
    "# Case with $Z_t^\\pm \\neq 0$"
   ]
  },
  {
   "cell_type": "code",
   "execution_count": 268,
   "metadata": {},
   "outputs": [],
   "source": [
    "Kappa = .1\n",
    "KKappa = .1\n",
    "K = 1\n",
    "B = 1 / (2 * K * (1 - K * KKappa))\n",
    "Beta = (1-2*K*KKappa)*B\n",
    "Zeta = 1\n",
    "Phi_I = Phi_M = 0\n",
    "Alpha_I = Alpha_M = 0\n",
    "Eta  = .1\n",
    "T = 0.1\n",
    "N = 20\n",
    "SIG = 5\n",
    "d = (1/(2*Kappa)/(1+B/(2*Kappa)))  \n",
    "Eta_ZM = 0\n",
    "Eta_ZP = 0\n",
    "SIG_ZP = 0\n",
    "SIG_ZM = 0"
   ]
  },
  {
   "cell_type": "code",
   "execution_count": 269,
   "metadata": {},
   "outputs": [
    {
     "name": "stdout",
     "output_type": "stream",
     "text": [
      "True\n"
     ]
    }
   ],
   "source": [
    "def condition():\n",
    "    term1 = 8 * T**2 * d**2 + 4 * T**2 * B**2 * K**2 * d**2 + 4 * T**2 * d**2\n",
    "    term2 = 8 * T**2 * d**2 * B**2 * K**2 + 4 * T**2 * B**2 * K**4 + 8 * T**2 * B**4 * K**4 * d**2 + 8 * T**2 * B**2 * K**2\n",
    "    term3 = 16 * (Phi_I)**2 * T**2 + 128 * (T**2 * (Phi_I)**2 + (Alpha_I)**2)\n",
    "    term4 = 16 * (Phi_M)**2 * T**2 + 128 * (T**2 * (Phi_M)**2 + (Alpha_M)**2)\n",
    "\n",
    "    cond = max(term1, term2, term3, term4) < 1/4\n",
    "    return(cond)\n",
    "print(condition())"
   ]
  },
  {
   "cell_type": "code",
   "execution_count": 270,
   "metadata": {},
   "outputs": [],
   "source": [
    "import torch\n",
    "import torch.nn as nn\n",
    "\n",
    "class ZNet(nn.Module):\n",
    "    def __init__(self, input_dim, output_dim=1, hidden_dim=64):\n",
    "        super(ZNet, self).__init__()\n",
    "        self.net = nn.Sequential(\n",
    "            nn.Linear(input_dim, hidden_dim),\n",
    "            nn.ReLU(),\n",
    "            nn.Linear(hidden_dim, hidden_dim),\n",
    "            nn.ReLU(),\n",
    "            nn.Linear(hidden_dim, output_dim)\n",
    "        )\n",
    "\n",
    "    def forward(self, y_I, y_M, q_I, q_M,z_plus,z_minus):\n",
    "        xy = torch.cat([y_I, y_M, q_I, q_M,z_plus,z_minus], dim=1)\n",
    "        return self.net(xy)"
   ]
  },
  {
   "cell_type": "code",
   "execution_count": 271,
   "metadata": {},
   "outputs": [],
   "source": [
    "def simulate_trajectory(Q0_I,Q0_M, Y0_I,Y0_M,Z_nets, \n",
    "                        b_QI,b_QM,b_YI,b_YM, T, N, dW_S,dW_A,dW_ZP,dW_ZM,eta = Eta,sigma_a = SIG,sigma_ZP = SIG_ZP, sigma_ZM = SIG_ZM\n",
    "                       ,eta_ZP= Eta_ZP, eta_ZM = Eta_ZM):\n",
    "    dt = T / N\n",
    "    Q_I,Q_M, Y_I,Y_M, Z_vals_IS,Z_vals_IA,Z_vals_MS,Z_vals_MA,Z_vals_I_plus,Z_vals_I_minus,Z_vals_M_plus,Z_vals_M_minus,alpha,Z_plus,Z_minus=[Q0_I],[Q0_M], [Y0_I],[Y0_M],[],[],[],[],[],[],[],[], [torch.zeros(1, 1).expand(Q0_I.shape[0], -1)],[torch.zeros(1, 1).expand(Q0_I.shape[0], -1)],[torch.zeros(1, 1).expand(Q0_I.shape[0], -1)]\n",
    "\n",
    "    for i in range(N):\n",
    "        t = i * dt\n",
    "        q_I,q_M, y_I,y_M,Alpha,ZP,ZM = Q_I[-1],Q_M[-1], Y_I[-1],Y_M[-1],alpha[-1],Z_plus[-1],Z_minus[-1]\n",
    "        \n",
    "        z_IS = Z_nets[0][i](y_I,y_M,q_I,q_M,ZP,ZM)\n",
    "        z_IA = Z_nets[1][i](y_I,y_M,q_I,q_M,ZP,ZM)\n",
    "        z_MS = Z_nets[2][i](y_I,y_M,q_I,q_M,ZP,ZM)\n",
    "        z_MA = Z_nets[3][i](y_I,y_M,q_I,q_M,ZP,ZM)\n",
    "        z_I_plus = Z_nets[4][i](y_I,y_M,q_I,q_M,ZP,ZM)\n",
    "        z_I_minus = Z_nets[5][i](y_I,y_M,q_I,q_M,ZP,ZM)\n",
    "        z_M_plus = Z_nets[6][i](y_I,y_M,q_I,q_M,ZP,ZM)\n",
    "        z_M_minus = Z_nets[7][i](y_I,y_M,q_I,q_M,ZP,ZM)\n",
    "        \n",
    "        Z_vals_IS.append(z_IS)\n",
    "        Z_vals_IA.append(z_IA)\n",
    "        Z_vals_MS.append(z_MS)\n",
    "        Z_vals_MA.append(z_MA)\n",
    "        Z_vals_I_plus.append(z_I_plus)\n",
    "        Z_vals_I_minus.append(z_I_minus)\n",
    "        Z_vals_M_plus.append(z_M_plus)\n",
    "        Z_vals_M_minus.append(z_M_minus)\n",
    "        \n",
    "        dWt_S = dW_S[:, i, :]\n",
    "        dWt_A = dW_A[:, i, :]\n",
    "        dWt_ZP = dW_ZP[:,i,:]\n",
    "        dWt_ZM = dW_ZM[:,i,:]\n",
    "        \n",
    "        q_I_next = q_I + b_QI(y_I,y_M, ZP,ZM) * dt \n",
    "        q_M_next = q_M + b_QM(y_I,y_M, ZP,ZM) * dt\n",
    "        \n",
    "        y_I_next = y_I + b_YI(q_I,Alpha) * dt + z_IS * dWt_S + z_IA * dWt_A\n",
    "        y_M_next = y_M + b_YM(q_M,Alpha) * dt + z_MS * dWt_S + z_MA * dWt_A\n",
    "        \n",
    "        alpha_next = Alpha - eta * Alpha * dt + dWt_A*sigma_a\n",
    "        z_plus_next = ZP - eta_ZP*ZP*dt + dWt_ZP*sigma_ZP\n",
    "        z_minus_next = ZM - eta_ZM*ZM*dt + dWt_ZM*sigma_ZM\n",
    "        \n",
    "        Z_plus.append(z_plus_next)\n",
    "        Z_minus.append(z_minus_next)\n",
    "        alpha.append(alpha_next)\n",
    "        Q_I.append(q_I_next)\n",
    "        Q_M.append(q_M_next)\n",
    "        Y_I.append(y_I_next)\n",
    "        Y_M.append(y_M_next)\n",
    "    \n",
    "        \n",
    "    return Q_I,Q_M,Y_I,Y_M,Z_vals_IS,Z_vals_IA,Z_vals_MS,Z_vals_MA,Z_vals_I_plus,Z_vals_I_minus,Z_vals_M_plus,Z_vals_M_minus,alpha,Z_plus,Z_minus\n",
    "\n"
   ]
  },
  {
   "cell_type": "code",
   "execution_count": 272,
   "metadata": {},
   "outputs": [],
   "source": [
    "def compute_loss(Y_I_T,Y_M_T,Q_I_T,Q_M_T,alpha_I=Alpha_I,alpha_M=Alpha_M):\n",
    "    target_I = -2*alpha_I*Q_I_T\n",
    "    target_M = - 2*alpha_M*Q_M_T\n",
    "    return torch.mean((Y_I_T - target_I) ** 2 + (Y_M_T - target_M)**2)"
   ]
  },
  {
   "cell_type": "code",
   "execution_count": 273,
   "metadata": {},
   "outputs": [],
   "source": [
    "def train(Z_nets, Y0_I,Y0_M, Q0_I, Q0_M, b_QI, b_QM, b_YI, b_YM,T, N, num_steps=1000, batch_size=100):\n",
    "    optimizer = torch.optim.Adam(\n",
    "        [{'params': net.parameters()} for net_list in Z_nets for net in net_list] + [{'params': [Y0_I,Y0_M]}], \n",
    "        lr=1e-3\n",
    "    )\n",
    "    #dW_S_all = []\n",
    "    #dW_A_all = []\n",
    "    for step in range(num_steps):\n",
    "        dW_S = torch.randn(batch_size, N, Y0_I.shape[1]) * (T / N) ** 0.5\n",
    "        dW_A = torch.randn(batch_size, N, Y0_I.shape[1]) * (T / N) ** 0.5\n",
    "        dW_ZP = torch.randn(batch_size, N, Y0_I.shape[1]) * (T / N) ** 0.5\n",
    "        dW_ZM = torch.randn(batch_size, N, Y0_I.shape[1]) * (T / N) ** 0.5\n",
    "        \n",
    "        #dW_S_all.append(dW_S)\n",
    "        #dW_A_all.append(dW_A)\n",
    "\n",
    "\n",
    "        Q_I_list,Q_M_list, Y_I_list,Y_M_list,_,_,_,_,_,_,_,_,_,_,_ = simulate_trajectory(\n",
    "            Q0_I.expand(batch_size, -1), Q0_M.expand(batch_size,-1), Y0_I.expand(batch_size, -1), Y0_M.expand(batch_size, -1),Z_nets, b_QI,b_QM,b_YI,b_YM, T, N,  dW_S,dW_A,dW_ZP,dW_ZM)\n",
    "        loss = compute_loss(Y_I_list[-1],Y_M_list[-1], Q_I_list[-1],Q_M_list[-1])\n",
    "        optimizer.zero_grad()\n",
    "        loss.backward()\n",
    "        optimizer.step()\n",
    "        if step % 100 == 0:\n",
    "            print(f\"Step {step}, Loss: {loss.item():.5f}\")\n",
    "\n",
    "    return dW_S,dW_A,dW_ZP,dW_ZM #dW_S[0:1,:,:],dW_A[0:1,:,:]"
   ]
  },
  {
   "cell_type": "code",
   "execution_count": 274,
   "metadata": {},
   "outputs": [],
   "source": [
    "# Fonctions dynamiques\n",
    "def b_QI(y_I, y_M, z_plus,z_minus, beta=Beta, k=K, kappa=Kappa, zeta=Zeta,b=B,kappa_U=KKappa):\n",
    "    c = -beta* (zeta+z_plus) + y_I - b * k * y_M\n",
    "    tilde_c = -beta * (zeta+z_minus) - y_I + b * k * y_M\n",
    "\n",
    "    left = torch.where(\n",
    "        c > 0,\n",
    "        (c / (2 * kappa)) / (b / (2 * kappa) + 1),\n",
    "        torch.zeros_like(c)\n",
    "    )\n",
    "    right = torch.where(\n",
    "        tilde_c > 0,\n",
    "        (tilde_c / (2 * kappa) ) / (b / (2 * kappa) + 1),\n",
    "        torch.zeros_like(tilde_c)\n",
    "    )\n",
    "    return left - right\n",
    "\n",
    "def b_QM(y_I, y_M, z_plus,z_minus, beta=Beta, k=K, kappa=Kappa, zeta=Zeta,b=B,kappa_u = KKappa):\n",
    "    c = -beta* (zeta+z_plus) + y_I - b * k * y_M\n",
    "    tilde_c = -beta  * (zeta+z_minus) - y_I + b * k * y_M\n",
    "\n",
    "    left = torch.where(\n",
    "        c > 0,\n",
    "        (c / (2 * kappa)) / (b / (2 * kappa) + 1),\n",
    "        torch.zeros_like(c)\n",
    "    )\n",
    "    right = torch.where(\n",
    "        tilde_c > 0,\n",
    "        (tilde_c / (2 * kappa)) / (b / (2 * kappa) + 1),\n",
    "        torch.zeros_like(tilde_c)\n",
    "    )\n",
    "    return k*b*(left-right) + 2*k**2*b*y_M  - (left - right) + b*(z_minus-z_plus + k*beta*(z_plus-z_minus))\n",
    "\n",
    "def b_YI(q_I, alpha, phi_I=Phi_I):\n",
    "    return 2 * phi_I * q_I - alpha\n",
    "\n",
    "def b_YM(q_M, alpha, phi_M=Phi_M):\n",
    "    return 2 * phi_M * q_M - alpha\n"
   ]
  },
  {
   "cell_type": "code",
   "execution_count": 275,
   "metadata": {},
   "outputs": [
    {
     "name": "stdout",
     "output_type": "stream",
     "text": [
      "Step 0, Loss: 2.06445\n",
      "Step 100, Loss: 1.63943\n",
      "Step 200, Loss: 1.34422\n",
      "Step 300, Loss: 1.01384\n",
      "Step 400, Loss: 0.82318\n",
      "Step 500, Loss: 0.63366\n",
      "Step 600, Loss: 0.48198\n",
      "Step 700, Loss: 0.36058\n",
      "Step 800, Loss: 0.26864\n",
      "Step 900, Loss: 0.18982\n"
     ]
    }
   ],
   "source": [
    "# Initialisation\n",
    "dim_q_I = 1\n",
    "dim_q_M = 1\n",
    "dim_y_I = 1\n",
    "dim_y_M = 1\n",
    "dim_z_plus = 1\n",
    "dim_z_minus = 1\n",
    "input_dim = dim_q_I + dim_q_M + dim_y_I + dim_y_M + dim_z_plus + dim_z_minus\n",
    "\n",
    "\n",
    "# Z_nets: 4 groupes de N réseaux chacun\n",
    "Z_nets = [\n",
    "    [ZNet(input_dim=input_dim) for _ in range(N)]  # Z_IS\n",
    "    for _ in range(8)  # Z_IS, Z_IA, Z_MS, Z_MA\n",
    "]\n",
    "\n",
    "Q0_I = torch.zeros(1, dim_q_I)\n",
    "Q0_M = torch.zeros(1, dim_q_M)\n",
    "Y0_I = nn.Parameter(torch.ones(1, dim_y_I))\n",
    "Y0_M = nn.Parameter(torch.ones(1, dim_y_M))\n",
    "\n",
    "dW_S, dW_A,dW_ZP,dW_ZM = train(Z_nets, Y0_I,Y0_M, Q0_I, Q0_M, b_QI, b_QM, b_YI, b_YM, T, N)\n"
   ]
  },
  {
   "cell_type": "code",
   "execution_count": 276,
   "metadata": {},
   "outputs": [
    {
     "data": {
      "image/png": "[encoded data removed]",
      "text/plain": [
       "<Figure size 864x432 with 1 Axes>"
      ]
     },
     "metadata": {
      "needs_background": "light"
     },
     "output_type": "display_data"
    },
    {
     "data": {
      "image/png": "[encoded data removed]",
      "text/plain": [
       "<Figure size 432x288 with 1 Axes>"
      ]
     },
     "metadata": {
      "needs_background": "light"
     },
     "output_type": "display_data"
    },
    {
     "name": "stderr",
     "output_type": "stream",
     "text": [
      "No handles with labels found to put in legend.\n"
     ]
    },
    {
     "data": {
      "image/png": "[encoded data removed]",
      "text/plain": [
       "<Figure size 432x288 with 1 Axes>"
      ]
     },
     "metadata": {
      "needs_background": "light"
     },
     "output_type": "display_data"
    },
    {
     "data": {
      "image/png": "[encoded data removed]",
      "text/plain": [
       "<Figure size 432x288 with 1 Axes>"
      ]
     },
     "metadata": {
      "needs_background": "light"
     },
     "output_type": "display_data"
    }
   ],
   "source": [
    "import matplotlib.pyplot as plt\n",
    "import numpy as np\n",
    "\n",
    "# Fonction pour afficher les courbes après l'entraînement\n",
    "def plot_trajectory(Q_I, Q_M, Y_I, Y_M, alpha, Z_plus,Z_minus, T, N, batch_idx=0,batch_size=100):\n",
    "    # Création d'un vecteur de temps\n",
    "    time_grid = [i * T / N for i in range(N+1)]\n",
    "\n",
    "    # Récupération des valeurs pour un élément spécifique du batch\n",
    "    Q_I_vals = [Q_I[t][batch_idx].item() for t in range(N+1)]\n",
    "    Q_M_vals = [Q_M[t][batch_idx].item() for t in range(N+1)]\n",
    "    Y_I_vals = [Y_I[t][batch_idx].item() for t in range(N+1)]\n",
    "    Y_M_vals = [Y_M[t][batch_idx].item() for t in range(N+1)]\n",
    "    alpha_vals = [alpha[t][batch_idx].item() for t in range(N+1)]\n",
    "    Z_plus_vals = [Z_plus[t][batch_idx].item() for t in range(N+1)]\n",
    "    Z_minus_vals = [Z_minus[t][batch_idx].item() for t in range(N+1)]\n",
    "\n",
    "    \n",
    "    \n",
    "    delta_plus = []\n",
    "    delta_minus = []\n",
    "    c=[]\n",
    "    tilde_c =[]\n",
    "    for t in range(N+1):\n",
    "        c.append(-B*(1-2*K*KKappa)*(Zeta+Z_plus_vals[t]) + Y_I_vals[t] - B*K*Y_M_vals[t])\n",
    "        tilde_c.append(-B*(1-2*K*KKappa)*(Zeta+Z_minus_vals[t])- Y_I_vals[t] + B*K*Y_M_vals[t])\n",
    "\n",
    "    \n",
    "    nu_plus = []\n",
    "    nu_minus = []\n",
    "    for t in range(N+1):\n",
    "        if c[t] <= 0:\n",
    "            nu_plus.append(0)\n",
    "        else:\n",
    "            nu_plus.append((c[t]/(2*Kappa))/((B/(2*Kappa)+1)))\n",
    "    \n",
    "    for t in range(N+1):\n",
    "        if tilde_c[t] <= 0:\n",
    "            nu_minus.append(0)\n",
    "        else:\n",
    "            nu_minus.append((tilde_c[t]/(2*Kappa))/((B/(2*Kappa)+1)) )  \n",
    "            \n",
    "    for t in range(N+1):\n",
    "        delta_plus.append(B*nu_plus[t] + Beta*(Zeta+Z_plus_vals[t]) + B*K*Y_M_vals[t])\n",
    "        delta_minus.append(B*nu_minus[t] + Beta*(Zeta+Z_minus_vals[t]) - B*K*Y_M_vals[t])\n",
    "\n",
    "    \n",
    "    \n",
    "    # Tracer les courbes pour Q_I, Q_M, Y_I, Y_M\n",
    "    plt.figure(figsize=(12, 6))\n",
    "\n",
    "    # Trajectoire pour Q_I et Q_M\n",
    "    plt.plot(time_grid, nu_plus, label=\"\\nu_t^+\", color='blue')\n",
    "    plt.plot(time_grid, nu_minus, label=\"\\nu_t^-\", color='orange')\n",
    "    plt.title(\"Trajectoire de trading speed\")\n",
    "    plt.xlabel(\"Temps\")\n",
    "    plt.ylabel(\"Valeur\")\n",
    "    plt.legend()\n",
    "    plt.tight_layout()\n",
    "    plt.show()\n",
    "    \n",
    "    \n",
    "    plt.plot(time_grid, delta_plus, label=\"\\delta_t^+\", color='blue')\n",
    "    plt.plot(time_grid, delta_minus, label=\"delta_t^-\", color='orange')\n",
    "    plt.title(\"Trajectoire des bid and ask\")\n",
    "    plt.xlabel(\"Temps\")\n",
    "    plt.ylabel(\"Valeur\")\n",
    "    plt.legend()\n",
    "    plt.tight_layout()\n",
    "    plt.show()\n",
    "    \n",
    "    \n",
    "    plt.plot(time_grid,c)\n",
    "    plt.title(\"Trajectoire du signal\")\n",
    "    plt.legend()\n",
    "    plt.tight_layout()\n",
    "    plt.show()\n",
    "    \n",
    "    plt.plot(time_grid,Z_plus_vals,label=\"Z^+_t\")\n",
    "    plt.title('Trajectoire de $Z_t^+$')\n",
    "    plt.legend()\n",
    "    plt.tight_layout()\n",
    "    plt.show()\n",
    "\n",
    "        \n",
    "# Fonction principale pour récupérer les valeurs et afficher les courbes\n",
    "def plot_after_training(batch_size=100):\n",
    "    # Récupérer la trajectoire simulée après l'entraînement\n",
    "    Q_I,Q_M, Y_I,Y_M,_,_,_,_,_,_,_,_,alpha,Z_plus,Z_minus = simulate_trajectory(\n",
    "            Q0_I.expand(batch_size, -1), Q0_M.expand(batch_size,-1), Y0_I.expand(batch_size, -1), Y0_M.expand(batch_size, -1),Z_nets, b_QI,b_QM,b_YI,b_YM, T, N,  dW_S,dW_A,dW_ZP,dW_ZM)\n",
    "    # Affichage des courbes pour le premier élément du batch\n",
    "    plot_trajectory(Q_I, Q_M, Y_I, Y_M,alpha,Z_plus,Z_minus, T, N, batch_idx=0,batch_size=100)\n",
    "\n",
    "# Appeler la fonction pour afficher les courbes après l'entraînement\n",
    "plot_after_training()\n"
   ]
  },
  {
   "cell_type": "code",
   "execution_count": 277,
   "metadata": {},
   "outputs": [
    {
     "name": "stderr",
     "output_type": "stream",
     "text": [
      "No handles with labels found to put in legend.\n",
      "No handles with labels found to put in legend.\n"
     ]
    },
    {
     "data": {
      "image/png": "[encoded data removed]",
      "text/plain": [
       "<Figure size 1296x576 with 2 Axes>"
      ]
     },
     "metadata": {
      "needs_background": "light"
     },
     "output_type": "display_data"
    }
   ],
   "source": [
    "import matplotlib.pyplot as plt\n",
    "import numpy as np\n",
    "\n",
    "# Fonction pour afficher les courbes après l'entraînement\n",
    "\n",
    "def plot_trajectory(Q_I, Q_M, Y_I, Y_M, alpha, Z_plus, Z_minus, T, N, batch_indices=[0, 1, 2, 3, 4]):\n",
    "    # Création d'un vecteur de temps\n",
    "    time_grid = [i * T / N for i in range(N+1)]\n",
    "\n",
    "    fig, axes = plt.subplots(1, 2, figsize=(18, 8), sharex=True, sharey=True)\n",
    "\n",
    "    for batch_idx in batch_indices:\n",
    "        # Récupération des valeurs pour chaque élément du batch\n",
    "        Q_I_vals = [Q_I[t][batch_idx].item() for t in range(N+1)]\n",
    "        Q_M_vals = [Q_M[t][batch_idx].item() for t in range(N+1)]\n",
    "        Y_I_vals = [Y_I[t][batch_idx].item() for t in range(N+1)]\n",
    "        Y_M_vals = [Y_M[t][batch_idx].item() for t in range(N+1)]\n",
    "        alpha_vals = [alpha[t][batch_idx].item() for t in range(N+1)]\n",
    "        Z_plus_vals = [Z_plus[t][batch_idx].item() for t in range(N+1)]\n",
    "        Z_minus_vals = [Z_minus[t][batch_idx].item() for t in range(N+1)]\n",
    "\n",
    "        # Calcul de c et tilde_c pour chaque point temporel\n",
    "        c = []\n",
    "        tilde_c = []\n",
    "        nu_plus = []\n",
    "        nu_minus = []\n",
    "        for t in range(N+1):\n",
    "            c_t = -B*(1-2*K*KKappa)*(Zeta+Z_plus_vals[t]) + Y_I_vals[t] - B*K*Y_M_vals[t]\n",
    "            tilde_c_t = -B*(1-2*K*KKappa)*(Zeta+Z_minus_vals[t]) - Y_I_vals[t] + B*K*Y_M_vals[t]\n",
    "            c.append(c_t)\n",
    "            tilde_c.append(tilde_c_t)\n",
    "            nu_plus.append((c_t/(2*Kappa))/(B/(2*Kappa)+1) if c_t > 0 else 0)\n",
    "            nu_minus.append((tilde_c_t/(2*Kappa))/(B/(2*Kappa)+1) if tilde_c_t > 0 else 0)\n",
    "\n",
    "        # Traçage des trajectoires pour ce batch\n",
    "        axes[0].plot(time_grid, nu_plus, '--', alpha=0.6)\n",
    "        axes[1].plot(time_grid, nu_minus, alpha=0.6)\n",
    "\n",
    "    # Ajustement des graphes\n",
    "    axes[0].set_title(\"Trajectoire de ν+\")\n",
    "    axes[1].set_title(\"Trajectoire de ν⁻\")\n",
    "    for ax in axes:\n",
    "        ax.set_xlabel(\"Temps\")\n",
    "        ax.set_ylabel(\"Valeur\")\n",
    "        ax.grid(True)\n",
    "        ax.legend()\n",
    "\n",
    "    plt.tight_layout()\n",
    "    plt.show()\n",
    "\n",
    "\n",
    "def plot_after_training(batch_size=100):\n",
    "    # Récupérer les trajectoires simulées après l'entraînement\n",
    "    Q_I, Q_M, Y_I, Y_M, _, _, _, _, _, _, _, _, alpha, Z_plus, Z_minus = simulate_trajectory(\n",
    "        Q0_I.expand(batch_size, -1), Q0_M.expand(batch_size, -1),\n",
    "        Y0_I.expand(batch_size, -1), Y0_M.expand(batch_size, -1),\n",
    "        Z_nets, b_QI, b_QM, b_YI, b_YM, T, N, dW_S, dW_A, dW_ZP, dW_ZM\n",
    "    )\n",
    "    # Affichage des courbes pour tous les éléments du batch\n",
    "    plot_trajectory(Q_I, Q_M, Y_I, Y_M, alpha, Z_plus, Z_minus, T, N, batch_indices=range(batch_size))\n",
    "\n",
    "# Appeler la fonction pour afficher les courbes après l'entraînement\n",
    "plot_after_training(batch_size=100)\n"
   ]
  },
  {
   "cell_type": "code",
   "execution_count": null,
   "metadata": {},
   "outputs": [],
   "source": []
  }
 ],
 "metadata": {
  "kernelspec": {
   "display_name": "Python 3",
   "language": "python",
   "name": "python3"
  },
  "language_info": {
   "codemirror_mode": {
    "name": "ipython",
    "version": 3
   },
   "file_extension": ".py",
   "mimetype": "text/x-python",
   "name": "python",
   "nbconvert_exporter": "python",
   "pygments_lexer": "ipython3",
   "version": "3.7.4"
  }
 },
 "nbformat": 4,
 "nbformat_minor": 4
}
